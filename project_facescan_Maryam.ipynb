{
 "cells": [
  {
   "cell_type": "code",
   "execution_count": 1,
   "id": "4edcb298-4d70-44bf-bf48-3c8f75195932",
   "metadata": {},
   "outputs": [],
   "source": [
    "import cv2  # Image processing\n",
    "import os\n",
    "\n",
    "# Load the pre-trained face detection model\n",
    "face_cascade = cv2.CascadeClassifier(cv2.data.haarcascades + 'haarcascade_frontalface_default.xml')\n",
    "\n",
    "# Initialize webcam\n",
    "cap = cv2.VideoCapture(0)\n",
    "\n",
    "# Create a directory to store detected faces\n",
    "if not os.path.exists(\"detected_faces\"):\n",
    "    os.makedirs(\"detected_faces\")\n",
    "\n",
    "face_count = 0  # Counter for saving images\n",
    "\n",
    "while True:\n",
    "    ret, frame = cap.read()\n",
    "    if not ret:\n",
    "        break  \n",
    "\n",
    "    # Convert frame to grayscale\n",
    "    gray = cv2.cvtColor(frame, cv2.COLOR_BGR2GRAY)\n",
    "\n",
    "    # Detect faces\n",
    "    faces = face_cascade.detectMultiScale(gray, scaleFactor=1.3, minNeighbors=5, minSize=(30, 30))\n",
    "\n",
    "    for (x, y, w, h) in faces:\n",
    "        # Draw rectangle around the face\n",
    "        cv2.rectangle(frame, (x, y), (x + w, y + h), (0, 255, 0), 3)\n",
    "        \n",
    "        # Save the detected face as an image\n",
    "        face_crop = frame[y:y+h, x:x+w]\n",
    "        face_filename = f\"detected_faces/face_{face_count}.jpg\"\n",
    "        cv2.imwrite(face_filename, face_crop)\n",
    "        face_count += 1\n",
    "    \n",
    "    # Display the frame\n",
    "    cv2.imshow(\"Face Detection\", frame)\n",
    "\n",
    "    # Press 'a' to exit\n",
    "    if cv2.waitKey(1) & 0xFF == ord('a'):\n",
    "        break\n",
    "\n",
    "# Release resources\n",
    "cap.release()\n",
    "cv2.destroyAllWindows()\n"
   ]
  },
  {
   "cell_type": "code",
   "execution_count": null,
   "id": "60d327f5-571c-4c7e-97ca-e52a14433593",
   "metadata": {},
   "outputs": [],
   "source": []
  },
  {
   "cell_type": "code",
   "execution_count": null,
   "id": "682c7f66-dc6a-4c5b-8ffc-7da8d6b74455",
   "metadata": {},
   "outputs": [],
   "source": []
  },
  {
   "cell_type": "code",
   "execution_count": null,
   "id": "272de833-2f0b-4695-8cb2-fd5a7f4da717",
   "metadata": {},
   "outputs": [],
   "source": []
  },
  {
   "cell_type": "code",
   "execution_count": null,
   "id": "c9dd07f0-bce4-4493-a0a7-9ff9de5f6ee1",
   "metadata": {},
   "outputs": [],
   "source": []
  },
  {
   "cell_type": "code",
   "execution_count": null,
   "id": "4f70dc5a-d3af-4b5e-b3fa-c6e5a8ef0eae",
   "metadata": {},
   "outputs": [],
   "source": []
  },
  {
   "cell_type": "code",
   "execution_count": null,
   "id": "2d87a6f4-413f-4c69-aac9-d07f2fb2bf10",
   "metadata": {},
   "outputs": [],
   "source": []
  },
  {
   "cell_type": "code",
   "execution_count": null,
   "id": "ca642f69-85e7-4fa6-950c-c237302b57ec",
   "metadata": {},
   "outputs": [],
   "source": []
  },
  {
   "cell_type": "code",
   "execution_count": null,
   "id": "f2f2dfa6-0a2c-4c82-be71-513c9e9a4f70",
   "metadata": {},
   "outputs": [],
   "source": []
  },
  {
   "cell_type": "code",
   "execution_count": null,
   "id": "12a2502a-5c2a-4e25-89ae-23e663f9770b",
   "metadata": {},
   "outputs": [],
   "source": []
  }
 ],
 "metadata": {
  "kernelspec": {
   "display_name": "Python 3 (ipykernel)",
   "language": "python",
   "name": "python3"
  },
  "language_info": {
   "codemirror_mode": {
    "name": "ipython",
    "version": 3
   },
   "file_extension": ".py",
   "mimetype": "text/x-python",
   "name": "python",
   "nbconvert_exporter": "python",
   "pygments_lexer": "ipython3",
   "version": "3.12.7"
  }
 },
 "nbformat": 4,
 "nbformat_minor": 5
}
